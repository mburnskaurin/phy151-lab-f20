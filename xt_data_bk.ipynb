{
  "nbformat": 4,
  "nbformat_minor": 0,
  "metadata": {
    "colab": {
      "name": "xt_data_bk.ipynb",
      "provenance": [],
      "collapsed_sections": [],
      "include_colab_link": true
    },
    "kernelspec": {
      "name": "python3",
      "display_name": "Python 3"
    }
  },
  "cells": [
    {
      "cell_type": "markdown",
      "metadata": {
        "id": "view-in-github",
        "colab_type": "text"
      },
      "source": [
        "<a href=\"https://colab.research.google.com/github/mburnskaurin/phy151-lab-f20/blob/master/xt_data_bk.ipynb\" target=\"_parent\"><img src=\"https://colab.research.google.com/assets/colab-badge.svg\" alt=\"Open In Colab\"/></a>"
      ]
    },
    {
      "cell_type": "markdown",
      "metadata": {
        "id": "BQvk4a_SoxrB",
        "colab_type": "text"
      },
      "source": [
        "In this notebook, you will read in data that contains time and x-position of a moving object. You will graph position vs. time, and x-velocity vs. time, after you calculate the x-velocity from the data.\n",
        "\n",
        "In order to graph, we need to import a package called matplotlib.pyplot; this is done on the second line in the first code cell below.\n",
        "\n",
        "The third line below controls the output of the graph. Search the internet to see what it means."
      ]
    },
    {
      "cell_type": "code",
      "metadata": {
        "id": "OG5RvCgoIg2W",
        "colab_type": "code",
        "colab": {}
      },
      "source": [
        "import numpy as np\n",
        "import matplotlib.pyplot as plt\n",
        "%matplotlib inline"
      ],
      "execution_count": null,
      "outputs": []
    },
    {
      "cell_type": "markdown",
      "metadata": {
        "id": "VVlupF5l5YZZ",
        "colab_type": "text"
      },
      "source": [
        "Run the two lines of code as from your previous notebook, click on Choose Files and select your text file with the data.  \n",
        "\n",
        "Your data file should have several lines of x-position vs. time data, one line per data point. Each line has two numbers separated by a comma. The first number is the time in your chosen time unit, and the second numnber is the x_position in your chosen position unit. Do not write the units in your file.\n"
      ]
    },
    {
      "cell_type": "code",
      "metadata": {
        "id": "sDvh_nEuMcKu",
        "colab_type": "code",
        "colab": {}
      },
      "source": [
        ""
      ],
      "execution_count": null,
      "outputs": []
    },
    {
      "cell_type": "code",
      "metadata": {
        "id": "Pl8ZIl26IOH4",
        "colab_type": "code",
        "colab": {}
      },
      "source": [
        "from google.colab import files\n",
        "uploaded = files.upload()"
      ],
      "execution_count": null,
      "outputs": []
    },
    {
      "cell_type": "markdown",
      "metadata": {
        "id": "3GqLCfaB5mY3",
        "colab_type": "text"
      },
      "source": [
        "On the right hand side type the name of your data file. The left hand side assigns the name of your file to the name filename, ao tha the rest of the code will know the name of your file."
      ]
    },
    {
      "cell_type": "code",
      "metadata": {
        "id": "QbNLsfEPNUBC",
        "colab_type": "code",
        "colab": {}
      },
      "source": [
        "filename = \"const v 1d data t x.txt\" #@param {type:\"string\"}\n"
      ],
      "execution_count": null,
      "outputs": []
    },
    {
      "cell_type": "markdown",
      "metadata": {
        "id": "oWxQ9RrS6GuL",
        "colab_type": "text"
      },
      "source": [
        "\n",
        "To read this data, use the loadtxt function from numpy. The data points are given names <em>time</em> and <em>x_pos</em>, as indicated by the left hand side of the first line below.\n",
        "\n",
        "The arguments of the loadtxt function are your filename, the data type as float, and the character that separates the nunbers in your file (a comma, called the delimited in computerese). The final argument is to cause the computer to assign the first number of each line to the time variable and to assign the second number of each line to the x_pos variable.\n",
        "\n",
        "The output of the loadtxt function are two numpy arrays with names time and x_pos. A numpy array is a variable type similar to a list variable type."
      ]
    },
    {
      "cell_type": "code",
      "metadata": {
        "id": "fNT0P5NIIWbp",
        "colab_type": "code",
        "colab": {}
      },
      "source": [
        "time,x_pos = np.loadtxt(filename,dtype='float',delimiter=',', unpack=True)\n",
        "print (time)\n",
        "print(x_pos)\n",
        "#Check to make sure that the time and x_pos arrays matches up with your data file"
      ],
      "execution_count": null,
      "outputs": []
    },
    {
      "cell_type": "markdown",
      "metadata": {
        "id": "bxbJs7cj9JhP",
        "colab_type": "text"
      },
      "source": [
        "You can now plot the data using functions in the matplotlib.pyplot that you imported. The basic command is  \n",
        "  \n",
        " plt.plot(array name on x axis, array name on y axis, how to display graph)  \n",
        "\n",
        " The how to display graph is written in quotes, where the first letter is the color (b for blue, r for red, etc.) and the second symbol is the symbol you want to use for the points (such as o or * or ^ or s), but - means connect the points by a straight line, and -- means connect the points with a dotted line. You can try various symbols to see what is produced or if you get an error when you symbol is not recognized. One way to learn in coding is to try out various things and run, where you are not turned off by error messages.   "
      ]
    },
    {
      "cell_type": "code",
      "metadata": {
        "id": "QVFVwTUE8dVs",
        "colab_type": "code",
        "colab": {}
      },
      "source": [
        "plt.plot(time,x_pos,'c^')\n",
        "plt.xlabel('time (s)')   #Command to label the x-axis\n",
        "plt.ylabel('position (cm)')   #Command to label the y-axis\n",
        "plt.title('motion of a toy car')           #Command to place a title above the graph region\n",
        "plt.show()                        #Command to display the graph"
      ],
      "execution_count": null,
      "outputs": []
    },
    {
      "cell_type": "markdown",
      "metadata": {
        "id": "93iMSLUvE0xT",
        "colab_type": "text"
      },
      "source": [
        "<h1>Calculating x-velocity</h1>  \n",
        "We now want to calculate the x-velocites and put the result in a new list, which we name x_vel. Although $v_x=dx/dt$, we approximate it as $v_x\\approx\\Delta x/\\Delta t$.\n",
        "\n",
        "The code below calculates this approximation of the first $v_x$ and appends it to the list. We assume that this is $v_x$ at the first time."
      ]
    },
    {
      "cell_type": "code",
      "metadata": {
        "id": "LDf3sVfTAESv",
        "colab_type": "code",
        "colab": {}
      },
      "source": [
        "x_vel=[]\n",
        "x_vel.append((x_pos[1]-x_pos[0])/(time[1]-time[0]))\n",
        "print(x_vel)\n"
      ],
      "execution_count": null,
      "outputs": []
    },
    {
      "cell_type": "markdown",
      "metadata": {
        "id": "bYAQMnjDGmVA",
        "colab_type": "text"
      },
      "source": [
        "![alt text](https://)<strong>Exercise</strong>  \n",
        "\n",
        "In the code cell above, write code to calculate the approximation of $v_x$ for the second time and append it to the x_vel list."
      ]
    },
    {
      "cell_type": "markdown",
      "metadata": {
        "id": "z2gpdIUiHZHC",
        "colab_type": "text"
      },
      "source": [
        "<h1>Calculating the Rest of the x-velocity</h1>  \n",
        "If we had to calculate the approximation of $v_x$ for all the times this way we would have to write a lot of very similar code, and since we do not know ahead of time how many data points we have, we would not know when to stop.\n",
        "\n",
        "For a case where we calculate something over and over with slight changes, we use what is called a loop in coding. We will use a <em>while</em> loop which is repeated the number of points minus 1, since we cannot approximate $v_x$ for the last time in our data.  \n",
        "\n",
        "Your instructor will have a video or will ask you to search the internet for the plan and syntax of the while loop below.  \n",
        "\n",
        "Note: if you need to re-run the code cell below over, you must first re-run the code cell above, to start the velocity calculations from the beginning. We only separated them, so that you can understand a little about loops. If not, you will be adding to x_vel that already has entries in it."
      ]
    },
    {
      "cell_type": "code",
      "metadata": {
        "id": "rOhNYSealPhd",
        "colab_type": "code",
        "colab": {}
      },
      "source": [
        "#the command len(array or list name) returns the number of items in the array or list\n",
        "point_number = 2  #we already did the x-velocity for the first two points\n",
        "while point_number < len(time)-1:\n",
        "  velocity = (x_pos[point_number+1]-x_pos[point_number])/(time[point_number+1]-time[point_number])\n",
        "  x_vel.append(velocity)\n",
        "  point_number = point_number + 1   #increases point numnber by 1 to run loop again"
      ],
      "execution_count": null,
      "outputs": []
    },
    {
      "cell_type": "markdown",
      "metadata": {
        "id": "_0IwdGUnlW-H",
        "colab_type": "text"
      },
      "source": [
        "Now we want to plot the x-velocity vs. time. However, we did not calculate the x-velocity for the last time in the time array. We need to create a new time array with the last point removed. See syntax below; ask a question if it is not understood."
      ]
    },
    {
      "cell_type": "code",
      "metadata": {
        "id": "8TFLfmfZp39k",
        "colab_type": "code",
        "colab": {}
      },
      "source": [
        "time_vel = time[0:len(time)-1]"
      ],
      "execution_count": null,
      "outputs": []
    },
    {
      "cell_type": "code",
      "metadata": {
        "id": "DIvYhZyMrGnP",
        "colab_type": "code",
        "colab": {
          "base_uri": "https://localhost:8080/",
          "height": 265
        },
        "outputId": "6433c357-f899-4d4b-ece0-4ebca16f20ec"
      },
      "source": [
        "#Graph x-velocity vs. time\n",
        "plt.plot(time_vel,x_vel, 'go')\n",
        "plt.show()"
      ],
      "execution_count": null,
      "outputs": [
        {
          "output_type": "display_data",
          "data": {
            "image/png": "[encoded data removed]",
            "text/plain": [
              "<Figure size 432x288 with 1 Axes>"
            ]
          },
          "metadata": {
            "tags": [],
            "needs_background": "light"
          }
        }
      ]
    },
    {
      "cell_type": "markdown",
      "metadata": {
        "id": "edP4qAN1rh9d",
        "colab_type": "text"
      },
      "source": [
        "<strong>Exercises</strong>  \n",
        "1. Add code to insert labels on the axes and the graph.\n",
        "2. Change the range of the number on the y-axis, so that it ends at a number higher than your largest x-velocity. Look on the internet how to do this."
      ]
    }
  ]
}